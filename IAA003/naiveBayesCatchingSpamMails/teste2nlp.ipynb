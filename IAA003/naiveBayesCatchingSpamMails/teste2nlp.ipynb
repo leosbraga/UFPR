{
 "cells": [
  {
   "cell_type": "code",
   "execution_count": 11,
   "metadata": {},
   "outputs": [],
   "source": [
    "from importlib import import_module\n",
    "from string import punctuation\n",
    "from collections import defaultdict\n",
    "from heapq import nlargest\n",
    "\n",
    "import streamlit as st\n",
    "import nltk\n",
    "from nltk.corpus import stopwords\n",
    "from nltk.probability import FreqDist\n",
    "from nltk.stem import PorterStemmer\n",
    "from nltk.tokenize import sent_tokenize, word_tokenize\n",
    "#nltk.download('punkt')\n",
    "\n",
    "stopwords_pt = set(stopwords.words('portuguese')+list(ponctuation))\n",
    "ps = PorterStemmer()\n",
    "texto = '''Pelo fato da vida ser, relativamente, tão curta e não comportar “reprises”,\n",
    "para emendarmos nossos erros, somos forçados a agir, na maior parte das vezes, por impulsos, \n",
    "em especial nos atos que tendem a determinar nosso futuro. Somos como atores convocados \n",
    "a representar uma tragédia (ou comédia), sem ter feito um único ensaio, apenas com uma ligeira\n",
    "e apressada leitura do script. Nunca saberemos, de fato, se a intuição que nos determinou\n",
    "seguir certo sentimento foi correta ou não. Não há tempo para essa verificação. Por isso, \n",
    "precisamos cuidar das nossas emoções com carinho muito especial.'''"
   ]
  },
  {
   "cell_type": "code",
   "execution_count": 14,
   "metadata": {},
   "outputs": [],
   "source": [
    "# Removendo as stopwords\n",
    "def rem_sw(text):\n",
    "    words = word_tokenize(text.lower())\n",
    "    return [word for word in words if word not in stopwords_pt]"
   ]
  },
  {
   "cell_type": "code",
   "execution_count": null,
   "metadata": {},
   "outputs": [],
   "source": [
    "def sumarize(text, n_sent=2):\n",
    "    words_not_stopwords = rem_sw(text)\n",
    "    sentences = sent_tokenize(text)\n",
    "    frequency = FreqDist(words_not_stopwords)\n",
    "    important_sentences = defaultdict(int)\n",
    "\n",
    "    for i, sentence in enumerate(sentences):\n",
    "        for word in word_tokenize(sentence.lower()):\n",
    "            if word in frequency:\n",
    "                important_sentences[i] += frequency[word]\n",
    "    \n",
    "    numb_sent = n_sent\n",
    "    idx_important_sentences = nlargest(numb_sent,\n",
    "                                        important_sentences,\n",
    "                                        important_sentences.get)\n",
    "\n",
    "    for i in sorted(idx_important_sentences):\n",
    "        st.write(sentences[i])\n"
   ]
  },
  {
   "cell_type": "code",
   "execution_count": 12,
   "metadata": {},
   "outputs": [
    {
     "name": "stdout",
     "output_type": "stream",
     "text": [
      "['Pelo', 'fato', 'da', 'vida', 'ser', ',', 'relativamente', ',', 'tão', 'curta', 'e', 'não', 'comportar', '“', 'reprises', '”', ',', 'para', 'emendarmos', 'nossos', 'erros', ',', 'somos', 'forçados', 'a', 'agir', ',', 'na', 'maior', 'parte', 'das', 'vezes', ',', 'por', 'impulsos', ',', 'em', 'especial', 'nos', 'atos', 'que', 'tendem', 'a', 'determinar', 'nosso', 'futuro', '.', 'Somos', 'como', 'atores', 'convocados', 'a', 'representar', 'uma', 'tragédia', '(', 'ou', 'comédia', ')', ',', 'sem', 'ter', 'feito', 'um', 'único', 'ensaio', ',', 'apenas', 'com', 'uma', 'ligeira', 'e', 'apressada', 'leitura', 'do', 'script', '.', 'Nunca', 'saberemos', ',', 'de', 'fato', ',', 'se', 'a', 'intuição', 'que', 'nos', 'determinou', 'seguir', 'certo', 'sentimento', 'foi', 'correta', 'ou', 'não', '.', 'Não', 'há', 'tempo', 'para', 'essa', 'verificação', '.', 'Por', 'isso', ',', 'precisamos', 'cuidar', 'das', 'nossas', 'emoções', 'com', 'carinho', 'muito', 'especial', '.']\n"
     ]
    }
   ],
   "source": [
    "\n",
    "tokens = nltk.word_tokenize(texto)\n",
    "print(tokens)"
   ]
  },
  {
   "cell_type": "code",
   "execution_count": 13,
   "metadata": {},
   "outputs": [
    {
     "name": "stdout",
     "output_type": "stream",
     "text": [
      "pelo fato da vida ser, relativamente, tão curta e não comportar “reprises”,\n",
      "para emendarmos nossos erros, somos forçados a agir, na maior parte das vezes, por impulsos, \n",
      "em especial nos atos que tendem a determinar nosso futuro. somos como atores convocados \n",
      "a representar uma tragédia (ou comédia), sem ter feito um único ensaio, apenas com uma ligeira\n",
      "e apressada leitura do script. nunca saberemos, de fato, se a intuição que nos determinou\n",
      "seguir certo sentimento foi correta ou não. não há tempo para essa verificação. por isso, \n",
      "precisamos cuidar das nossas emoções com carinho muito especial.\n"
     ]
    }
   ],
   "source": [
    "radicais = ps.stem(texto)\n",
    "print(radicais)"
   ]
  }
 ],
 "metadata": {
  "interpreter": {
   "hash": "b89b5cfaba6639976dc87ff2fec6d58faec662063367e2c229c520fe71072417"
  },
  "kernelspec": {
   "display_name": "Python 3.10.2 64-bit",
   "language": "python",
   "name": "python3"
  },
  "language_info": {
   "codemirror_mode": {
    "name": "ipython",
    "version": 3
   },
   "file_extension": ".py",
   "mimetype": "text/x-python",
   "name": "python",
   "nbconvert_exporter": "python",
   "pygments_lexer": "ipython3",
   "version": "3.10.2"
  },
  "orig_nbformat": 4
 },
 "nbformat": 4,
 "nbformat_minor": 2
}
